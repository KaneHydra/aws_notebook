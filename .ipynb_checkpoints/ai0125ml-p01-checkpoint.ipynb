{
 "cells": [
  {
   "cell_type": "markdown",
   "id": "b2f32188-280f-42a0-ac59-90bcaca3de9e",
   "metadata": {},
   "source": [
    "# import modules and check sagemaker config info"
   ]
  },
  {
   "cell_type": "code",
   "execution_count": null,
   "id": "add6c8b9-b78f-45a5-99fa-ce436cd3d57b",
   "metadata": {},
   "outputs": [],
   "source": [
    "import sagemaker"
   ]
  },
  {
   "cell_type": "markdown",
   "id": "e319d935-e79c-458e-83d9-0d0542d8f082",
   "metadata": {},
   "source": [
    "# install and update modules"
   ]
  },
  {
   "cell_type": "code",
   "execution_count": null,
   "id": "41df6817-4ab9-4cf4-a185-bda93f37cf72",
   "metadata": {},
   "outputs": [],
   "source": [
    "!pip install --user numexpr==2.7.3"
   ]
  },
  {
   "cell_type": "code",
   "execution_count": null,
   "id": "4ade28fa-6982-43c4-9de3-77ca75bc95d3",
   "metadata": {},
   "outputs": [],
   "source": [
    "!pip install --upgrade sagemaker"
   ]
  },
  {
   "cell_type": "code",
   "execution_count": null,
   "id": "d20497d1-a92d-4fc9-abb9-f331007f7184",
   "metadata": {},
   "outputs": [],
   "source": [
    "!pip install --upgrade pandas"
   ]
  },
  {
   "cell_type": "markdown",
   "id": "169bf06f-8140-467e-b791-865ea9538481",
   "metadata": {},
   "source": [
    "# check aws version"
   ]
  },
  {
   "cell_type": "code",
   "execution_count": null,
   "id": "6b40ccbb-db17-4417-abb2-533abc55fe27",
   "metadata": {},
   "outputs": [],
   "source": [
    "!aws version"
   ]
  },
  {
   "cell_type": "markdown",
   "id": "6bf2c9ac-63fc-4459-891c-6bad5025cca4",
   "metadata": {},
   "source": [
    "# check os info"
   ]
  },
  {
   "cell_type": "code",
   "execution_count": null,
   "id": "45c64a61-580a-4560-b03b-b390d77bd65f",
   "metadata": {},
   "outputs": [],
   "source": [
    "!cat /etc/os-release"
   ]
  },
  {
   "cell_type": "markdown",
   "id": "e1e80f03-7f71-425a-a9f1-85716ad6b8e7",
   "metadata": {},
   "source": [
    "# check s3 buckets"
   ]
  },
  {
   "cell_type": "code",
   "execution_count": null,
   "id": "a0e39e8c-ec1d-4217-88fc-111d2bda0c87",
   "metadata": {},
   "outputs": [],
   "source": [
    "!aws s3 ls\n",
    "!BUCKET_NAME=ai0125s3ml001\n",
    "!aws s3 mb s3://ai0125s3ml001\n",
    "!aws s3 ls"
   ]
  },
  {
   "cell_type": "markdown",
   "id": "39711652-4cc8-49b3-bdc6-78d9815e7a2c",
   "metadata": {},
   "source": [
    "# check current dir"
   ]
  },
  {
   "cell_type": "code",
   "execution_count": null,
   "id": "db6cd7f3-a34d-4605-9a87-6e196d8de4ab",
   "metadata": {},
   "outputs": [],
   "source": [
    "!pwd"
   ]
  },
  {
   "cell_type": "markdown",
   "id": "1f60046d-afba-4b2e-b1dd-bb4b7739ce6b",
   "metadata": {},
   "source": [
    "# check data in current folder"
   ]
  },
  {
   "cell_type": "code",
   "execution_count": null,
   "id": "481a6370-2e57-4abc-b4be-eb4680c396b7",
   "metadata": {},
   "outputs": [],
   "source": [
    "!ls"
   ]
  },
  {
   "cell_type": "markdown",
   "id": "e66b0972-add3-4ce9-9db8-7560b501a414",
   "metadata": {},
   "source": [
    "# switch folder and nested create dirs"
   ]
  },
  {
   "cell_type": "code",
   "execution_count": null,
   "id": "1a7cf7d9-fa06-4e60-ac06-55944a492ce6",
   "metadata": {},
   "outputs": [],
   "source": [
    "!cd SageMaker\n",
    "# nested create dirs\n",
    "!mkdir -p ml-experiments/01/files"
   ]
  },
  {
   "cell_type": "markdown",
   "id": "94c9decc-6878-4549-a8f6-0794acf40b9c",
   "metadata": {},
   "source": [
    "# check dir structure"
   ]
  },
  {
   "cell_type": "code",
   "execution_count": null,
   "id": "c0d20a11-3829-4a08-b758-0fd07a73701a",
   "metadata": {},
   "outputs": [],
   "source": [
    "!ls 1ahF"
   ]
  },
  {
   "cell_type": "markdown",
   "id": "51f0fc37-ffa8-4b41-b774-0faafc6a07f0",
   "metadata": {},
   "source": [
    "# goto files dir"
   ]
  },
  {
   "cell_type": "code",
   "execution_count": null,
   "id": "20665ede-7fda-48e7-bce3-366bd9815dd1",
   "metadata": {},
   "outputs": [],
   "source": [
    "!cd ml-experiments/01/files"
   ]
  },
  {
   "cell_type": "markdown",
   "id": "4065d3dc-8e82-4fc0-a9ae-9a745f3b5a8b",
   "metadata": {},
   "source": [
    "# create csv data"
   ]
  },
  {
   "cell_type": "code",
   "execution_count": null,
   "id": "66d94def-f069-492e-b19e-be8cef4e14e0",
   "metadata": {},
   "outputs": [],
   "source": [
    "data = \"\"\"\n",
    "last_name,management_experience_months,monthly_salary\n",
    "Taylor,65,1630\n",
    "Wang,61,1330\n",
    "Brown,38,1290\n",
    "Harris,71,1480\n",
    "Jones,94,1590\n",
    "Garcia,93,1750\n",
    "Williams,15,1020\n",
    "Lee,56  1290\n",
    "White,59,1430\n",
    "Tan,7,960\n",
    "Chen,14,1090\n",
    "Kim,67,1340\n",
    "Davis,29,1170\n",
    "James,49,1390\n",
    "Perez,46,1240\n",
    "Cruz,73,1390\n",
    "Smith,19,960\n",
    "Thompson,22,1040\n",
    "Joseph,32,1090\n",
    "Singh,37,1300\n",
    "\"\"\"\n",
    "# path = '~/SageMaker/ml-experiments/01/files'\n",
    "path = './'\n",
    "with open(path,mode='w',encoding='utf-8') as f:\n",
    "    f.write(data.strip())"
   ]
  }
 ],
 "metadata": {
  "kernelspec": {
   "display_name": "Python 3 (ipykernel)",
   "language": "python",
   "name": "python3"
  },
  "language_info": {
   "codemirror_mode": {
    "name": "ipython",
    "version": 3
   },
   "file_extension": ".py",
   "mimetype": "text/x-python",
   "name": "python",
   "nbconvert_exporter": "python",
   "pygments_lexer": "ipython3",
   "version": "3.12.2"
  }
 },
 "nbformat": 4,
 "nbformat_minor": 5
}
